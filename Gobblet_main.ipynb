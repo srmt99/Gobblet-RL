{
  "nbformat": 4,
  "nbformat_minor": 0,
  "metadata": {
    "colab": {
      "name": "Gobblet_main(1).ipynb",
      "provenance": [],
      "collapsed_sections": []
    },
    "kernelspec": {
      "display_name": "Python 3",
      "name": "python3"
    }
  },
  "cells": [
    {
      "cell_type": "code",
      "metadata": {
        "id": "BbE26bL8aJ_V"
      },
      "source": [
        "# author: Sorush mortazavi\n",
        "# std_id: 9631068"
      ],
      "execution_count": null,
      "outputs": []
    },
    {
      "cell_type": "code",
      "metadata": {
        "colab": {
          "base_uri": "https://localhost:8080/"
        },
        "id": "zydyDcmQx5ya",
        "outputId": "7a5539e7-e5a3-4750-c557-3dcd5c81dcc2"
      },
      "source": [
        "from google.colab import drive\n",
        "drive.mount('/content/gdrive')"
      ],
      "execution_count": null,
      "outputs": [
        {
          "output_type": "stream",
          "name": "stdout",
          "text": [
            "Mounted at /content/gdrive\n"
          ]
        }
      ]
    },
    {
      "cell_type": "code",
      "metadata": {
        "id": "dy0-TYWw2VEz"
      },
      "source": [
        "import numpy as np\n",
        "import copy\n",
        "import keras\n",
        "from keras import layers\n",
        "from matplotlib import pyplot as plt\n",
        "from keras.utils.vis_utils import plot_model\n",
        "import time\n",
        " "
      ],
      "execution_count": null,
      "outputs": []
    },
    {
      "cell_type": "code",
      "metadata": {
        "id": "rHpJRNH4SEdM"
      },
      "source": [
        "def board_init():\n",
        "  \"\"\"\n",
        "  creates and returns the initail game board state\n",
        "  a 2D matrix consisting of 16 rows, each having 4 columns\n",
        "  of zero at first\n",
        "  \"\"\"\n",
        "  board = np.zeros((16, 4))\n",
        "  \n",
        "  return board\n",
        " \n",
        "def win_trails():\n",
        "  \"\"\"\n",
        "  returns a list of positions in which a win trail can be formed.\n",
        "  \"\"\"\n",
        "  # all possible win trails\n",
        "  trails = [ range(0, 4), range(4, 8), range(8, 12), range(12,16), # horizental\n",
        "              range(0, 16, 4), range(1, 16, 4), range(2, 16, 4), range(3, 16, 4), # vertical\n",
        "              range(0, 16, 5), range(3, 15, 3) ] # digonal\n",
        "  return trails\n",
        " \n",
        "def decode_state(state):\n",
        "  \"\"\"\n",
        "  decodes the state to show who has occupied which cell of\n",
        "  the borad. 1 means player1, -1 means player2, 0 means none\n",
        "  \"\"\"\n",
        "  weights = np.array([1, 1.5, 2.25, 3.75])\n",
        " \n",
        "  # black_white determines which place is currently occupied by which player\n",
        "  # 1 means player1, -1 means player2, and zero means none\n",
        "  black_white = np.matmul(state,weights)\n",
        "  black_white = np.where(black_white>0, 1, black_white)\n",
        "  black_white = np.where(black_white<0, -1, black_white)\n",
        " \n",
        "  return black_white\n",
        " \n",
        "def G_V1(states, model=None):\n",
        "  \"\"\"\n",
        "  returns the G_V1 value function (approximation) of the input state.\n",
        "  \"\"\"\n",
        "  values = []\n",
        "  filters = win_trails()\n",
        "  for state in states:\n",
        "    black_white = decode_state(state)\n",
        "  \n",
        "    # apply the filters above on black_white to determine the value function\n",
        "    # of the current state\n",
        "    value = 0\n",
        "    for f in filters:\n",
        "      \n",
        "      num_whites = (black_white[f]==1).sum()\n",
        "      num_blacks = (black_white[f]==-1).sum()\n",
        "  \n",
        "      curr_value = num_whites * np.exp(num_whites*2.1)\n",
        "      curr_value -= num_blacks * np.exp(num_blacks*2.1)\n",
        "      curr_value -= (num_blacks-num_whites) * np.exp((num_blacks-num_whites)*2.5)\n",
        "      curr_value += np.max(state, 1).sum()\n",
        "  \n",
        "      # just accumulate the values\n",
        "      value += curr_value\n",
        "  \n",
        "    value = np.where(value>0, 1, -1) * np.log(abs(value))\n",
        "    values.append(value)\n",
        "  return np.array(values)\n",
        " \n",
        "def G_CV(states, model):\n",
        "  \"\"\"\n",
        "  returns the G_CV value function (approximation) of the input states.\n",
        "  \"\"\"\n",
        "  # board_featuers = decode_state(states).reshape(1, 16)\n",
        "  if len(np.shape(states))>2:\n",
        "    return model.predict_on_batch(states)\n",
        "\n",
        "  return model(states.reshape(1,16,4), training=False )[0][0]\n",
        " \n",
        "def possible_moves(curr_state, deck, value_func, model=None, with_values=True, two_way=False):\n",
        "  \"\"\"\n",
        "  explores all avilable moves and their resulting states, value functions\n",
        "  returns a list of states to which we'll arrive given a particular action.\n",
        "  inputs:\n",
        "  curr_state: current state of the game.\n",
        "  deck: player's current deck in game.\n",
        "  value_func: the function to calculate the value of a given state.\n",
        " \n",
        "  returns: the next (states, deck) and corresponding values\n",
        "  \"\"\"\n",
        "  # t = time.time()\n",
        "  # we explore all available actions and select the action\n",
        "  # which will produce the best next state.\n",
        "  values = []\n",
        "  states = []\n",
        "  \n",
        "  # filters are all the possible win trails\n",
        "  filters = win_trails()\n",
        " \n",
        "  # black_white determines which place is currently occupied by which player\n",
        "  # 1 means player1, -1 means player2, and zero means none\n",
        "  black_white = decode_state(curr_state)\n",
        " \n",
        "  # print(black_white.reshape(4,4))\n",
        "  # first explore actions starting from the deck.\n",
        "  seen = []\n",
        "  # print(\"1:\", time.time()-t)\n",
        "  # t = time.time()\n",
        "  for g in range(len(deck)):\n",
        "        group = deck[g]\n",
        "        if len(group)<1:\n",
        "          continue\n",
        "        piece = group.pop()\n",
        "        if piece in seen:\n",
        "          group.append(piece)\n",
        "          continue\n",
        "        seen.append(piece)\n",
        "        for cell in curr_state:\n",
        "            \n",
        "            \n",
        "            if max(abs(cell))==0: # empty cell, can put any piece here\n",
        "              cell[0] = piece\n",
        "              states.append([curr_state.copy(), copy.deepcopy(deck)])\n",
        "              cell[0] = 0 # undo the state after appending the action\n",
        "\n",
        "        # only if the player is about to lose, he/she can place the chosen\n",
        "        # piece on an opponent's piece, keeping him/her from winning.\n",
        "        for f in filters:\n",
        "          if (black_white[f]==-1).sum()>2: # opponent might be winning\n",
        "            for p in f:\n",
        "              cell = curr_state[p]\n",
        "              if max(abs(cell))==0:\n",
        "                continue\n",
        "              if cell[cell != 0][-1] < 0 and abs(cell[cell != 0][-1]) < piece:\n",
        "              # meaning the top piece isn't the player's and it is not bigger than our piece\n",
        "                cell_back_up = cell[(cell != 0).sum()]\n",
        "                cell[(cell != 0).sum()] = piece\n",
        "                states.append([curr_state.copy(), copy.deepcopy(deck)])\n",
        "                cell[(cell != 0).sum()-1] = cell_back_up # undo the state after appending the action\n",
        "        group.append(piece)\n",
        "  # print(\"2:\", time.time()-t)\n",
        "  # t = time.time()\n",
        "  state_backup = curr_state.copy()\n",
        "  # now to explore the within board moves.\n",
        "  for i in range(len(curr_state)):\n",
        "    cell = curr_state[i]\n",
        "    if max(abs(cell))==0: \n",
        "      continue\n",
        "    # meaning the cell isn't empty\n",
        "    piece = cell[cell != 0][-1]\n",
        "    if piece <= 0 :\n",
        "      continue # meaning the top piece isn't the player's\n",
        "    for j in range(len(curr_state)): # looking for all the places to put it\n",
        "      cell = curr_state[j]\n",
        "      if max(abs(cell)) < piece: # our piece is larger and can be placed\n",
        "        curr_state[j][(cell != 0).sum()] = piece\n",
        "        curr_state[i][(curr_state[i] != 0).sum()-1] = 0\n",
        "        states.append([curr_state.copy(), copy.deepcopy(deck)])\n",
        "        curr_state = state_backup.copy() # undo the state after appending the action\n",
        "\n",
        "  # print(\"3:\", time.time()-t)\n",
        "  # t = time.time()\n",
        "  if with_values:\n",
        "    inputs = np.array([i[0] for i in states])\n",
        "    values = value_func(inputs, model=model).flatten()\n",
        "    if two_way:\n",
        "      values += -value_func(-inputs, model=model).flatten()\n",
        "  # print(\"4:\", time.time()-t)\n",
        "  return states, values\n",
        " \n",
        "def next_state(curr_state, deck, value_func, model=None, turn=1, epsilon=0, two_way=False):\n",
        "  \"\"\"\n",
        "  picks the next state based on current state and the value_func.\n",
        "  epsilon is the percentage of randomness applied when choosing\n",
        "  the next state according to their value function\n",
        "  inputs:\n",
        "  curr_state: current state of the game.\n",
        "  deck: player's current deck in game.\n",
        "  value_func: the function to calculate the value of a given state.\n",
        " \n",
        "  returns: the next state as chosen by epsilon-greedy method.\n",
        "  and the (changed/uchanged) deck of player\n",
        "  \"\"\"\n",
        "\n",
        "  if turn!=1:\n",
        "    curr_state = curr_state*-1\n",
        "\n",
        "  # get all available moves and thier corresponding state value function\n",
        "  states, values = possible_moves(curr_state, deck, value_func, model, two_way=two_way)\n",
        "  # print(np.shape(states),np.shape(values))\n",
        "  # for i in range(len(states)):\n",
        "  #   print(decode_state(states[i][0]).reshape(4,4), values[i])\n",
        "  #   print(\"_________\")\n",
        "  # return the best state and the corresponding deck\n",
        "  if epsilon > np.random.rand(): # pick a random action\n",
        "    rand_idx = np.random.randint(len(states))\n",
        "    state, deck = states[rand_idx]\n",
        "  else: # else, pick the best action\n",
        "    state, deck = states[np.array(values).argmax()]\n",
        "  if turn!=1:\n",
        "    state = state*-1\n",
        "  return state, deck\n",
        " \n",
        "def initial_weights(shape):\n",
        "  weights = []\n",
        "  for l in shape:\n",
        "    weights.append(np.random.random(l+1))\n",
        " \n",
        "def delta_w(target_vlaue, est_value, weights, learning_method=\"monte_carlo\"):\n",
        "  if learning_method == \"TD_0\":\n",
        "    # error = _lambda_ * player1_value_func(st, w)\n",
        "    # it needs more work here\n",
        "    pass\n",
        "  else:\n",
        "    error = target_vlaue - est_value\n",
        "  dcost_dw = ...\n",
        "  delta_w = alpha * error * dcost_dw\n",
        "  w += delta_w # updating the parameters of value function approximator\n",
        " \n",
        "def learn_game(player1_value_func=G_CV, player2_value_func=G_V1,\n",
        "               learning_method=\"monte_carlo\", num_episods=1000,\n",
        "               alpha=0.01, _lambda_=0.02, weights=None, epsilon=0):\n",
        "  \"\"\"\n",
        "  runs the learning algorithm for both player1 & player2, based on their\n",
        "  value function (approximation) and the learning method used.\n",
        "  returns: the learned parameters for player1_value_func.\n",
        "  \"\"\"\n",
        "\n",
        "  history = [] # the history of all episodes\n",
        "  for ep_num in range(num_episods):\n",
        "    episode, reward = run_episode(epsilon=epsilon)\n",
        "    history.append([episode, reward])\n",
        "\n",
        "def terminal(state):\n",
        "  \"\"\"\n",
        "  checks if the input state is a terminal one or not.\n",
        "  meaning if any player has won.\n",
        "  \"\"\"\n",
        "  black_white = decode_state(state)\n",
        "  filters = win_trails()\n",
        " \n",
        "  for f in filters:\n",
        "    if black_white[f].sum()==4 or black_white[f].sum()==-4:\n",
        "      return True\n",
        "  return False\n",
        " \n",
        "def evaluate(states):\n",
        "  \"\"\"\n",
        "  given the input state is a terminal state, this function\n",
        "  returns the reward for the first player (positive numbers)\n",
        "  \"\"\"\n",
        "  filters = win_trails()\n",
        "  outputs = []\n",
        "  for state in states:\n",
        "    black_white = decode_state(state)\n",
        "    outputs.append(0)\n",
        "    for f in filters:\n",
        "      if black_white[f].sum()==4:\n",
        "        outputs[-1] = 10\n",
        "        break\n",
        "      elif  black_white[f].sum()==-4:\n",
        "        outputs[-1] = -10\n",
        "        break\n",
        "  return outputs\n",
        " \n",
        "def build_deck():\n",
        "  \"\"\"\n",
        "  builds the initial deck of a player consisting of:\n",
        "  3 very large, 3 large, 3 medium and 3 small gobblets\n",
        "  \"\"\"\n",
        "  deck = []\n",
        "  for _ in range(3):\n",
        "    group = []\n",
        "    for size in [1,2,3,4]: # 1: small, 2: meduim, 3: large, 4: very large\n",
        "      group.append(size)\n",
        "    deck.append(group)\n",
        "  \n",
        "  return deck\n",
        " \n",
        "def run_episode(player1_value_func, player2_value_func, state=None, p1_deck=None, p2_deck=None, turn=None, model=None, epsilon=0, two_way=False):\n",
        "  \"\"\"\n",
        "  runs and returns an episode of the game, until the end also with\n",
        "  the reward of player1 (1=won, -1=lost)\n",
        "  \"\"\"\n",
        "  \n",
        "  episode = []\n",
        "  if state is None:\n",
        "    state = board_init()\n",
        "  episode.append(state.copy())\n",
        "  if turn is None:\n",
        "    turn = 1 # player1 plays first\n",
        "  if p1_deck is None:\n",
        "    p1_deck = build_deck()\n",
        "  if p2_deck is None:\n",
        "    p2_deck = build_deck()\n",
        "\n",
        "  for _ in range(50): # runs until the game terminates or 50 steps are taken\n",
        "    if turn == 1: # player 1 turn\n",
        "      state, p1_deck = next_state(state, p1_deck, player1_value_func, model=model, turn=turn, epsilon=epsilon, two_way=two_way)\n",
        "      turn = 2\n",
        "\n",
        "    else: # player 2 turn\n",
        "      state, p2_deck = next_state(state, p2_deck, player2_value_func, model=model, turn=turn, epsilon=epsilon, two_way=two_way)\n",
        "      turn = 1\n",
        " \n",
        "    episode.append(state.copy())\n",
        " \n",
        "    if terminal(state): # if terminal == True, it means the game is finished\n",
        "      break # end of episode\n",
        "  \n",
        "  reward = evaluate([copy.deepcopy(state)])[0]\n",
        "  return episode, reward"
      ],
      "execution_count": null,
      "outputs": []
    },
    {
      "cell_type": "code",
      "metadata": {
        "id": "RSUUxNVQioQF"
      },
      "source": [
        "def random_move(curr_state, deck, value_func, model=None, with_values=True, two_way=False):\n",
        "  \"\"\"\n",
        "  creates one random moves and its resulting state, value functions\n",
        "  inputs:\n",
        "  curr_state: current state of the game.\n",
        "  deck: player's current deck in game.\n",
        "  value_func: the function to calculate the value of a given state.\n",
        " \n",
        "  returns: the next (next_state, deck) and corresponding value\n",
        "  \"\"\"\n",
        "\n",
        "  filters = win_trails() # filters are all the possible win trails\n",
        "  black_white = decode_state(curr_state) # black_white determines which place is currently occupied by which player\n",
        "                                        # 1 means player1, -1 means player2, and zero means none\n",
        "  value = None\n",
        "  next_state = None\n",
        "  while next_state is None:\n",
        "      rnd = np.random.randint(3)\n",
        "      if rnd == 1: # 1/3 chance we'll choose from deck moves\n",
        "          group = deck[np.random.randint(len(deck))]\n",
        "          if len(group)>0:\n",
        "              piece = group.pop()\n",
        "              cell = curr_state[np.random.randint(len(curr_state))]\n",
        "              if max(abs(cell))==0: # empty cell, can put any piece here\n",
        "                cell[0] = piece\n",
        "                next_state = (curr_state.copy(), copy.deepcopy(deck))\n",
        "                break # have chosen the next_move\n",
        "\n",
        "              break_while = False # to break out of all loops if a move is found\n",
        "              # only if the player is about to lose, he/she can place the chosen\n",
        "              # piece on an opponent's piece, keeping him/her from winning.\n",
        "              for f in filters: \n",
        "                if (black_white[f]==-1).sum()>2: # opponent might be winning\n",
        "                  for p in f:\n",
        "                    cell = curr_state[p]\n",
        "                    if max(abs(cell))>0 and cell[cell != 0][-1] < 0 and abs(cell[cell != 0][-1]) < piece:\n",
        "                    # meaning the top piece isn't the player's and it is not bigger than our piece\n",
        "                      cell_back_up = cell[(cell != 0).sum()]\n",
        "                      cell[(cell != 0).sum()] = piece\n",
        "                      next_state = (curr_state.copy(), copy.deepcopy(deck))\n",
        "                      break_while = True\n",
        "                      break # have chosen the next_move\n",
        "                if break_while:\n",
        "                  break\n",
        "              if not break_while:\n",
        "                group.append(piece)\n",
        "      # 2/3 chance we'll choose from witin board moves\n",
        "      player_cells = np.arange(16)[black_white>0]\n",
        "      if len(player_cells) < 1:\n",
        "        continue\n",
        "      cell = curr_state[np.random.choice(player_cells)]\n",
        "      piece = cell[(cell != 0).sum()-1]\n",
        "      cell_2 = curr_state[np.random.randint(len(curr_state))]\n",
        "      if max(abs(cell_2)) >= piece: # our piece is not larger and cannot be placed\n",
        "        continue\n",
        "      cell_2[(cell_2 != 0).sum()] = piece.copy()\n",
        "      cell[(cell != 0).sum()-1] = 0\n",
        "      next_state = (curr_state.copy(), copy.deepcopy(deck))\n",
        "      break # have chosen the next_move\n",
        "\n",
        "  if with_values:\n",
        "    inputs = [next_state[0]]\n",
        "    value = value_func(inputs, model=model).flatten()\n",
        "    if two_way:\n",
        "      value += -value_func(-inputs, model=model).flatten()\n",
        "\n",
        "  return next_state, value"
      ],
      "execution_count": null,
      "outputs": []
    },
    {
      "cell_type": "code",
      "metadata": {
        "id": "PTmVt5nGNQOX"
      },
      "source": [
        "def search(curr_state, p1_deck, p2_deck, p1_value_func, p2_value_func, curr_depth=0,\n",
        "            max_depth=2, alpha=-1000, beta=1000, model=None, turn=1, epsilon=0, use_naive_value_function=False, two_way=False):\n",
        "  \"\"\"\n",
        "  similar to next_state() with the difference that it uses MINIMAX search tree with Alpha-Beta\n",
        "  pruning in order to find the best action.\n",
        "  inputs:\n",
        "  curr_state: current state of the game.\n",
        "  deck: player's current deck in game.\n",
        "  value_func: the function to calculate the value of a given leaf in MINIMAX tree.\n",
        " \n",
        "  returns: the next state as chosen by MINIMAX method.\n",
        "  and the (changed/uchanged) deck of player\n",
        "  \"\"\"\n",
        "  global count\n",
        "  count += 1\n",
        "  # max_depth = max(2, max_depth)\n",
        "  if turn!=1:\n",
        "    curr_state = curr_state*-1\n",
        "  if curr_depth+1 < max_depth:\n",
        "    # children_states = []\n",
        "    # children_values = []\n",
        "\n",
        "    if turn != 1: # it is player 2's turn (the minimizer)\n",
        "        if evaluate([curr_state])[0] == 10: # terminal state, player 2 has won\n",
        "          return curr_state*-1, p2_deck, -10\n",
        "        elif evaluate([curr_state])[0] == -10: # terminal state, player 2 has lost\n",
        "          return curr_state*-1, p2_deck, 10\n",
        "        value = 1000\n",
        "        # get all next children\n",
        "        child_states, _ = possible_moves(curr_state, p2_deck, p2_value_func, model, with_values=False)\n",
        "        # print(\"turn:\",turn, \"depth:\",curr_depth, \"len:\",len(child_states) )\n",
        "        index = 0\n",
        "        best_index = 0\n",
        "        for child_state, child_deck in child_states:\n",
        "            child_state = child_state*-1\n",
        "            best_child_state, best_child_deck, best_child_value = search(copy.deepcopy(child_state),\n",
        "                                                                          copy.deepcopy(p1_deck),\n",
        "                                                                          copy.deepcopy(child_deck),\n",
        "                                                                          p1_value_func, p2_value_func,\n",
        "                                                                          curr_depth+1, max_depth, alpha, beta,\n",
        "                                                                          model, 1, epsilon, use_naive_value_function, two_way)\n",
        "            if value > best_child_value:\n",
        "              value = best_child_value\n",
        "              best_index = index\n",
        "            # children_states.append((copy.deepcopy(child_state), copy.deepcopy(child_deck)))\n",
        "            # children_values.append(best_child_value)\n",
        "            if value <= alpha or value <= -10:\n",
        "              break # α cutoff\n",
        "            beta = min(beta, value)\n",
        "            index += 1\n",
        "\n",
        "        if best_child_value < value:\n",
        "            print(\"Something went wrong\")\n",
        "\n",
        "    else: # it was player 1's turn (the maximizer)\n",
        "        if evaluate([curr_state])[0] == 10: # terminal state, player 1 has won\n",
        "          return curr_state, p1_deck, 10\n",
        "        elif evaluate([curr_state])[0] == -10: # terminal state, player 1 has lost\n",
        "          return curr_state, p1_deck, -10\n",
        "        value = -1000\n",
        "        # get all next children thier corresponding state value function\n",
        "        child_states, _ = possible_moves(curr_state, p1_deck, p1_value_func, model, with_values=False)\n",
        "        # print(\"turn:\",turn, \"depth:\",curr_depth, \"len:\",len(child_states) )\n",
        "        index = 0\n",
        "        best_index = 0\n",
        "        for child_state, child_deck in child_states:\n",
        "            best_child_state, best_child_deck, best_child_value = search(copy.deepcopy(child_state),\n",
        "                                                                          copy.deepcopy(child_deck),\n",
        "                                                                          copy.deepcopy(p2_deck),\n",
        "                                                                          p1_value_func, p2_value_func,\n",
        "                                                                          curr_depth+1, max_depth, alpha, beta,\n",
        "                                                                          model, 2, epsilon, use_naive_value_function, two_way)\n",
        "            if value < best_child_value:\n",
        "              value = best_child_value\n",
        "              best_index = index\n",
        "            # children_states.append((copy.deepcopy(child_state), copy.deepcopy(child_deck)))\n",
        "            # children_values.append(best_child_value)\n",
        "            if value >= beta or value>=10:\n",
        "                break # β cutoff\n",
        "            alpha = max(alpha, value)\n",
        "            index += 1\n",
        "        \n",
        "        if best_child_value>value:\n",
        "          print(\"Something went wrong\")\n",
        "\n",
        "    best_child_state, best_child_deck = child_states[best_index]\n",
        "    if turn != 1: # it was player 2's turn (minimizer)\n",
        "            best_child_state, best_child_value = -1*best_child_state, -1*best_child_value\n",
        "    return best_child_state, best_child_deck, best_child_value\n",
        "\n",
        "  else: # we are in a parent of a leaf node\n",
        "      if turn != 1: # it is player 2's turn (the minimizer)\n",
        "        if evaluate([curr_state])[0] == 10: # terminal state, player 2 has won\n",
        "          return curr_state*-1, p2_deck, -10\n",
        "        elif evaluate([curr_state])[0] == -10: # terminal state, player 2 has lost\n",
        "          return curr_state*-1, p2_deck, 10\n",
        "      else:\n",
        "        if evaluate([curr_state])[0] == 10: # terminal state, player 1 has won\n",
        "          return curr_state, p1_deck, 10\n",
        "        elif evaluate([curr_state])[0] == -10: # terminal state, player 1 has lost\n",
        "          return curr_state, p1_deck, -10\n",
        "      # get all next children thier corresponding state value\n",
        "      if use_naive_value_function: # not using value function\n",
        "          if turn == 1:\n",
        "              child_states, _ = possible_moves(curr_state, p1_deck, value_func=None, model=model, with_values=False)\n",
        "          else:\n",
        "              child_states, _ = possible_moves(curr_state, p2_deck, value_func=None, model=model, with_values=False)\n",
        "          child_values = np.array(evaluate([s[0] for s in child_states]))\n",
        "\n",
        "      else: # using value function\n",
        "          if turn == 1:\n",
        "              child_states, child_values = possible_moves(curr_state, p1_deck, p1_value_func, model, with_values=True, two_way=two_way)\n",
        "          else:\n",
        "              child_states, child_values = possible_moves(curr_state, p2_deck, p2_value_func, model, with_values=True, two_way=two_way)\n",
        "          child_values_eval = np.array(evaluate([s[0] for s in child_states]))\n",
        "          terminal_state_indexes = (child_values_eval>0.5)+(child_values_eval<-0.5)\n",
        "          # replaceing terminal node values with their reward\n",
        "          child_values[terminal_state_indexes] = child_values_eval[terminal_state_indexes]\n",
        "\n",
        "      # print(\"turn:\",turn, \"depth:\",curr_depth, \"len:\",len(child_states) )\n",
        "      # epsilon chance of choosing next move by random\n",
        "      if epsilon > np.random.rand(): # pick a random action\n",
        "        rand_idx = np.random.randint(len(child_states))\n",
        "        best_child_state, best_child_deck = child_states[rand_idx]\n",
        "        best_child_value = child_values[rand_idx]\n",
        "\n",
        "      else: # else, pick the best action for the current player\n",
        "        if use_naive_value_function:\n",
        "          child_states = np.array(child_states)\n",
        "          if any(child_values==10): # we have a winner move\n",
        "            best_child_state = child_states[child_values==10][0][0]\n",
        "            best_child_deck = child_states[child_values==10][0][1]\n",
        "            best_child_value = 10\n",
        "          elif any(child_values==0):# we have a non losing move\n",
        "            best_child_state = child_states[child_values==0][0][0]\n",
        "            best_child_deck = child_states[child_values==0][0][1]\n",
        "            best_child_value = 0\n",
        "          else: # we have lost\n",
        "            best_child_state = child_states[0][0]\n",
        "            best_child_deck = child_states[0][1]\n",
        "            best_child_value = -10\n",
        "        else: # based on approximiate values, choose the best next state\n",
        "          best_child_state, best_child_deck = child_states[np.array(child_values).argmax()]\n",
        "          best_child_value = child_values[np.array(child_values).argmax()]  \n",
        "        \n",
        "      if turn != 1: # it was player 2's turn (minimizer)\n",
        "            best_child_state, best_child_value = -1*best_child_state, -1*best_child_value\n",
        "      return best_child_state, best_child_deck, best_child_value"
      ],
      "execution_count": null,
      "outputs": []
    },
    {
      "cell_type": "markdown",
      "metadata": {
        "id": "9iHNkBECdlwY"
      },
      "source": [
        "run an episode: like run_episode()"
      ]
    },
    {
      "cell_type": "code",
      "metadata": {
        "id": "AAPu6qgKCnsG"
      },
      "source": [
        "def random_play(curr_state, p1_deck, p2_deck, turn, max_moves=50):\n",
        "  \"\"\"\n",
        "  plays the game to the end, by randomly selecting moves at each step\n",
        "  \"\"\"\n",
        "  episode = []\n",
        "  for _ in range(max_moves): # runs until the game terminates or 50 steps are taken\n",
        "\n",
        "    if turn == 1: # player 1 turn\n",
        "      # get all available moves and thier corresponding state value function\n",
        "      curr_state, value = random_move(curr_state, p1_deck, None, model=None, with_values=False)\n",
        "      curr_state, p1_deck = curr_state\n",
        "      turn = 2\n",
        "\n",
        "    else: # player 2 turn\n",
        "      curr_state = curr_state*-1\n",
        "      # get all available moves and thier corresponding state value function\n",
        "      curr_state, value = random_move(curr_state, p2_deck, None, model=None, with_values=False)\n",
        "      curr_state, p2_deck = curr_state\n",
        "      curr_state = curr_state*-1\n",
        "      turn = 1\n",
        " \n",
        "    episode.append(curr_state.copy())\n",
        " \n",
        "    if terminal(curr_state): # if terminal == True, it means the game is finished\n",
        "      break # end of episode\n",
        "  reward = evaluate([copy.deepcopy(curr_state)])[0]\n",
        "  return episode, reward\n",
        "\n",
        "def MCTS(curr_state, p1_deck, p2_deck, p1_value_func, p2_value_func, max_rollouts=100,\n",
        "            model=None, turn=1, epsilon=0, use_naive_value_function=False, two_way=False):\n",
        "  \"\"\"\n",
        "  similar to search(), with one extra output <est_values> which is just the array of estimations.\n",
        "  uses Monte-Carlo search to evaluate next possible states and acts based on the evaluation\n",
        "  \"\"\"\n",
        "  if turn==1:\n",
        "    child_states, _ = possible_moves(copy.deepcopy(curr_state), p1_deck.copy(), p1_value_func, with_values=False)\n",
        "  else:\n",
        "    curr_state = curr_state*-1\n",
        "    child_states, _ = possible_moves(copy.deepcopy(curr_state), p2_deck.copy(), p2_value_func, with_values=False)\n",
        "    \n",
        "  est_values = np.zeros(len(child_states))\n",
        "  visited_num = np.zeros(len(child_states))\n",
        "  for roll in range(max_rollouts):\n",
        "    print(f\"\\rroll:{roll}/{max_rollouts}\",end=\"\")\n",
        "    rand_idx = np.random.choice(np.arange(len(visited_num))[visited_num==min(visited_num)])\n",
        "    curr_state, p_deck = child_states[rand_idx]\n",
        "    if turn==1:\n",
        "      ep, reward = random_play(copy.deepcopy(curr_state), copy.deepcopy(p_deck), copy.deepcopy(p2_deck), turn=2, max_moves=50)\n",
        "    else:\n",
        "      curr_state = curr_state*-1\n",
        "      ep, reward = random_play(copy.deepcopy(curr_state), copy.deepcopy(p1_deck), copy.deepcopy(p_deck), turn=1, max_moves=50)\n",
        "    est_values[rand_idx] += reward\n",
        "    visited_num[rand_idx] += 1\n",
        "    # for i in ep[:-1]:\n",
        "    #   print(decode_state(i).reshape(4,4))\n",
        "    #   print(\"________\")\n",
        "  est_values /= (visited_num*10)\n",
        "  best_child_state, best_child_deck = child_states[np.array(est_values).argmax()]\n",
        "  best_child_value = est_values[np.array(est_values).argmax()]\n",
        "  return best_child_state, best_child_deck, best_child_value, est_values"
      ],
      "execution_count": null,
      "outputs": []
    },
    {
      "cell_type": "code",
      "metadata": {
        "id": "HdY7wD6j3bw2"
      },
      "source": [
        "def build_model():\n",
        "  \"\"\"\n",
        "  creates a NN model for value function approximation and returns it.\n",
        "  \"\"\"\n",
        "\n",
        "  model = keras.Sequential()\n",
        "  lyr_inp = layers.Input((16,4))\n",
        "  lyr_0 = layers.TimeDistributed(layers.Dense(1, activation  =\"relu\", name=\"layer1\",input_shape=(16,)))(lyr_inp)\n",
        "  lyr_1 = layers.Flatten()(lyr_inp)\n",
        "  lyr_2 = layers.Dense(32, activation  =\"relu\", name=\"layer2\")(lyr_1)\n",
        "  lyr_3 = layers.Dropout(0.2)(lyr_2)\n",
        "  lyr_4 = layers.Dense(16, activation  =\"relu\", name=\"layer3\")(lyr_3)\n",
        "  lyr_5 = layers.Dropout(0.1)(lyr_4)\n",
        "  lyr_6 = layers.Concatenate()([layers.Flatten()(lyr_0), lyr_5])\n",
        "  lyr_7 = layers.Flatten()(lyr_6)\n",
        "  lyr_8 = layers.Dense(8, activation  =\"relu\", name=\"layer4\")(lyr_7)\n",
        "  lyr_9 = layers.Dense(4, activation  =\"relu\", name=\"layer5\")(lyr_8)\n",
        "  lyr_10 = layers.Dense(1, activation  =\"linear\", name=\"layer6\")(lyr_9)\n",
        "  model = keras.Model(inputs=lyr_inp, outputs=lyr_10)\n",
        "  model.build(input_shape=(16,4))\n",
        "  model.compile(loss=\"mse\", optimizer='adam', metrics=['mae'])\n",
        "  model.summary()\n",
        "  plot_model(model, to_file=\"model.png\", show_shapes=True)\n",
        "  return model\n"
      ],
      "execution_count": null,
      "outputs": []
    },
    {
      "cell_type": "markdown",
      "metadata": {
        "id": "3s0dENEHWDeh"
      },
      "source": [
        "code for playing the game and evaluating the performance of agents"
      ]
    },
    {
      "cell_type": "code",
      "metadata": {
        "id": "2Mqx6CJAVWPd"
      },
      "source": [
        "total_wins = 0\n",
        "total_draws = 0\n",
        "reward = 0\n",
        "count = 0\n",
        "for _ in range(10):\n",
        "  episode = []\n",
        "  state = board_init()\n",
        "  episode.append(copy.deepcopy(state))\n",
        "  turn = 1 # player1 plays first\n",
        "  p1_deck = build_deck()\n",
        "  p2_deck = build_deck()\n",
        "  # model = build_model()\n",
        "  p1_func = G_CV\n",
        "  p2_func = G_CV\n",
        "  t = time.time()\n",
        "  for o in range(50): # runs until the game terminates or 100 steps are taken\n",
        "    if turn == 1: # player 1 turn\n",
        "      state, p1_deck, _, _ = MCTS(state, p1_deck, p2_deck, None, None, max_rollouts=1000, turn=1)\n",
        "      # state, p1_deck, _ = search(state, p1_deck, p2_deck, p1_func, p2_func, model=model, max_depth=1, turn=1,\n",
        "      #                                             epsilon=0.1, use_naive_value_function=False, two_way=True)\n",
        "      turn = 2\n",
        "  \n",
        "    else: # player 2 turn\n",
        "      # state, p1_deck, _, _ = MCTS(state, p2_deck, p1_deck, None, None, max_rollouts=200, turn=2)\n",
        "      state, p2_deck, _ = search(state, p1_deck, p2_deck, p1_func, p2_func, model=model, max_depth=2, turn=2,\n",
        "                                                  epsilon=0.1, use_naive_value_function=False, two_way=True)\n",
        "      turn = 1\n",
        "  \n",
        "    episode.append(copy.deepcopy(state))\n",
        "    if terminal(state):\n",
        "      reward = evaluate([state])[0]\n",
        "      episode.append(reward)\n",
        "      break\n",
        "\n",
        "  if reward > 0:\n",
        "    total_wins += 1\n",
        "  elif reward == 0:\n",
        "    total_draws += 1\n",
        "  print(time.time()-t, reward, o)\n",
        "  print(state)\n",
        "print(\"won:\",total_wins,\"/100  -draws:\",total_draws)"
      ],
      "execution_count": null,
      "outputs": []
    },
    {
      "cell_type": "markdown",
      "metadata": {
        "id": "ci3GE-G3dfXN"
      },
      "source": [
        "code for running a self-play and self-learn (tournament_size=4000 takes about 4 Hrs)"
      ]
    },
    {
      "cell_type": "code",
      "metadata": {
        "colab": {
          "background_save": true
        },
        "id": "DF3umOoCVY6B"
      },
      "source": [
        "# dataset, labels = [], []\n",
        "# model = build_model()\n",
        "lambda_ = 0.65\n",
        "num_episodes = 1 # how many games to play in each tournament\n",
        "tournament_size = 4000 # how many times to play <num_episodes> episodes\n",
        "total_rew = 0\n",
        "learning_data_window = 2048\n",
        "epsilon = 0.1 # chances of playing a random move at the beginning of each tournament\n",
        "for tournament in range(1000, tournament_size):\n",
        "  if tournament>1000:\n",
        "    num_episodes = 10\n",
        "  elif tournament>800:\n",
        "    num_episodes = 8\n",
        "  elif tournament>600:\n",
        "    num_episodes = 6\n",
        "  elif tournament>400:\n",
        "    num_episodes = 5\n",
        "  elif tournament>200:\n",
        "    num_episodes = 4\n",
        "  elif tournament>100:\n",
        "    num_episodes = 3\n",
        "  elif tournament>20:\n",
        "    num_episodes = 2\n",
        "  t = time.time() # to capture the amount of time it took to play <num_episodes> games\n",
        "  history = [] # the history of all (episodes, rewards) in this tournament\n",
        "  reward_sum = 0 # total reward of this tournament\n",
        "  for ep_num in range(num_episodes):\n",
        "    episode, reward = run_episode(epsilon=epsilon, player1_value_func=G_CV, player2_value_func=G_CV, model=model)\n",
        "    history.append([episode, reward])\n",
        "    reward_sum += reward\n",
        " \n",
        "  print(f\"the {tournament}th round took {time.time()-t} seconds\")\n",
        "  print(\"     reward sum:\",reward_sum)\n",
        "  total_rew += reward_sum\n",
        " \n",
        "  for h in history:\n",
        "    hist, rew = h[0], h[1]\n",
        "    for state in hist[::-1]: # go from the end to the beginning\n",
        "      dataset.append(state) # add each state of the game\n",
        "      labels.append(rew) # add the associated reward\n",
        "      rew = rew*lambda_\n",
        "      if rew < 0.1 and rew > -0.1:\n",
        "        break\n",
        "  epsilon = epsilon*0.999 # reduce the random move chance\n",
        "  training_data, trainig_labels = np.array(dataset)[-min(learning_data_window,len(dataset)):],\\\n",
        "                                  np.array(labels)[-min(learning_data_window,len(dataset)):]\n",
        "  print(training_data.shape, trainig_labels.shape)\n",
        "  if tournament % 100 == 0: # model is trained occasinally\n",
        "    model.fit(x=training_data, y=trainig_labels, epochs=200, batch_size=64, verbose=0)\n",
        "  else:\n",
        "    model.fit(x=training_data, y=trainig_labels, epochs=20, batch_size=64, verbose=0)\n",
        "  if tournament % 200 == 0: # created dataset is saved occasionaly\n",
        "    np.save('gdrive/MyDrive/RL_Project/dataset8',np.array(dataset))\n",
        "    np.save('gdrive/MyDrive/RL_Project/labels8',np.array(labels))\n",
        "  print(model.evaluate(x=training_data, y=trainig_labels))\n",
        "  \n",
        "print(\"total rew = \",total_rew)"
      ],
      "execution_count": null,
      "outputs": []
    },
    {
      "cell_type": "code",
      "metadata": {
        "id": "HkWN-3Xg2Cnz"
      },
      "source": [
        "for i in episode[:-1]:\n",
        "  print(decode_state(i).reshape(4,4))\n",
        "  # print(i)\n",
        "  print(\"____\")"
      ],
      "execution_count": null,
      "outputs": []
    },
    {
      "cell_type": "markdown",
      "metadata": {
        "id": "W2ohp3CPWQO6"
      },
      "source": [
        "experimenting with MCTS"
      ]
    },
    {
      "cell_type": "code",
      "metadata": {
        "colab": {
          "base_uri": "https://localhost:8080/"
        },
        "id": "4chyA0T8h2a2",
        "outputId": "abe8663c-9a1b-4038-9294-79a1a5c6d30f"
      },
      "source": [
        "episode = []\n",
        "count = 0\n",
        "# model = build_model()\n",
        "curr_state = state\n",
        "# curr_state[0] = [4,0,0,0]\n",
        "# curr_state[1] = [4,0,0,0]\n",
        "# curr_state[3] = [3,0,0,0]\n",
        "turn = 1 # player1 plays first\n",
        "# p1_deck = build_deck()\n",
        "# p2_deck = build_deck()\n",
        "t = time.time()\n",
        "ss, _ = possible_moves(curr_state, p1_deck, None, with_values=False)\n",
        "# o = search(curr_state, p1_deck, p2_deck, G_V1, G_V1, model=model, max_depth=1, turn=1, use_naive_value_function=False, two_way=True)\n",
        "best_child_state, best_child_deck, best_child_value, est_values = MCTS(curr_state, p1_deck, p2_deck, None, None, max_rollouts=1000, turn=1)\n",
        "print(f\"took {time.time()-t} seconds;\",\"nodes explored:\", count)\n",
        "print(est_values)"
      ],
      "execution_count": null,
      "outputs": [
        {
          "name": "stdout",
          "output_type": "stream",
          "text": [
            "roll:999/1000took 10.671676397323608 seconds; nodes explored: 0\n",
            "[-0.05 -0.15  0.3   0.3   0.65  0.05 -0.1   0.45  0.    0.2   0.45  0.2\n",
            " -0.4  -0.1   0.05  0.15  0.25  0.4   0.15  0.1   0.    0.15  0.1   0.05\n",
            "  0.3   0.4   0.2   0.25  0.    0.    0.1   0.2  -0.25 -0.35 -0.25  0.5\n",
            "  0.4   0.3   0.35 -0.3  -0.05 -0.45  0.    0.    0.2  -0.2  -0.25  0.2\n",
            " -0.3  -0.05]\n"
          ]
        }
      ]
    },
    {
      "cell_type": "markdown",
      "metadata": {
        "id": "dv80MGOJWSlQ"
      },
      "source": [
        "visulazing the experiments of MCTS vs model outputs and G_V1 outputs"
      ]
    },
    {
      "cell_type": "code",
      "metadata": {
        "colab": {
          "base_uri": "https://localhost:8080/",
          "height": 282
        },
        "id": "uqcU_6wFKWR3",
        "outputId": "7999d012-6223-4607-ada5-991092c5ee24"
      },
      "source": [
        "mcts = [i/max(abs(est_values)) for i in est_values]\n",
        "ve = model.predict_on_batch(np.array([i[0] for i in ss]))\n",
        "ve -= model.predict_on_batch(np.array([-i[0] for i in ss]))\n",
        "plt.plot(mcts, label=\"MCTS estimates\")\n",
        "# plt.plot([i/max(abs(est_values)) for i in old_est], label=\"old MCTS estimates\")\n",
        "# ve = np.maximum(-model.predict_on_batch(np.array([-i[0] for i in ss])), model.predict_on_batch(np.array([i[0] for i in ss])))\n",
        "plt.plot(ve/max(abs(np.array(ve))), label=\"Value function estimates\")\n",
        "# plt.plot(G_V1([i[0] for i in ss])/10, label=\"G_V1 estimates\")\n",
        "plt.legend()"
      ],
      "execution_count": null,
      "outputs": [
        {
          "data": {
            "text/plain": [
              "<matplotlib.legend.Legend at 0x7f2198dc7a50>"
            ]
          },
          "execution_count": 156,
          "metadata": {},
          "output_type": "execute_result"
        },
        {
          "data": {
            "image/png": "[encoded data removed]",
            "text/plain": [
              "<Figure size 432x288 with 1 Axes>"
            ]
          },
          "metadata": {},
          "output_type": "display_data"
        }
      ]
    },
    {
      "cell_type": "markdown",
      "metadata": {
        "id": "001v_HAIWZzN"
      },
      "source": [
        "other models (which were not as good as the one above)"
      ]
    },
    {
      "cell_type": "code",
      "metadata": {
        "id": "lYsVHs24wJCm"
      },
      "source": [
        "def build_model():\n",
        "  \"\"\"\n",
        "  creates a NN model for value function approximation and returns it.\n",
        "  \"\"\"\n",
        " \n",
        "  model = keras.Sequential([\n",
        "        layers.Input((16,4)),\n",
        "        # layers.TimeDistributed(layers.Dense(1, activation  =\"relu\", name=\"layer1\",input_shape=(16,))),\n",
        "        layers.Flatten(),\n",
        "        layers.Dense(64, activation  =\"relu\", name=\"layer1\"),\n",
        "        layers.Dropout(0.2),\n",
        "        layers.Dense(32, activation  =\"relu\", name=\"layer2\"),\n",
        "        layers.Dropout(0.2),\n",
        "        layers.Dense(16, activation  =\"relu\", name=\"layer3\"),\n",
        "        layers.Dropout(0.2),\n",
        "        layers.Dense(8, activation  =\"relu\", name=\"layer4\"),\n",
        "        layers.Dropout(0.2),\n",
        "        layers.Dense(4, activation  =\"relu\", name=\"layer5\"),\n",
        "        layers.Dense(1, activation = \"linear\", name=\"layer6\"),\n",
        "        ])\n",
        "  # kernel_regularizer= keras.regularizers.l1_l2()\n",
        "  model\n",
        "  model.build()\n",
        "  model.compile(loss=\"mse\", optimizer='adam', metrics=['mae'])\n",
        "  model.summary()\n",
        "  plot_model(model, to_file=\"model1.png\", show_shapes=True)\n",
        "  return model"
      ],
      "execution_count": null,
      "outputs": []
    },
    {
      "cell_type": "code",
      "metadata": {
        "id": "b5iuIXmbFtnH"
      },
      "source": [
        "def build_model():\n",
        "  \"\"\"\n",
        "  creates a NN model for value function approximation and returns it.\n",
        "  \"\"\"\n",
        "   \n",
        "  model = keras.Sequential([\n",
        "        layers.Input((16,4,1)),\n",
        "        layers.Conv2D(16, kernel_size=2, activation=\"relu\"),\n",
        "        layers.Conv2D(8, kernel_size=2, activation=\"relu\"),\n",
        "        layers.Conv2D(4, kernel_size=2, activation=\"relu\"),\n",
        "        layers.Flatten(),\n",
        "        layers.Dense(1, activation = \"linear\", name=\"layer6\"),\n",
        "        ])\n",
        "  # kernel_regularizer= keras.regularizers.l1_l2()\n",
        "  model\n",
        "  model.build()\n",
        "  model.compile(loss=\"mse\", optimizer='adam', metrics=['mae'])\n",
        "  model.summary()\n",
        "  plot_model(model, to_file=\"model1.png\", show_shapes=True)\n",
        "  return model\n"
      ],
      "execution_count": null,
      "outputs": []
    },
    {
      "cell_type": "markdown",
      "metadata": {
        "id": "UkUe2W9FWeIA"
      },
      "source": [
        "traning the model with loaded dataset"
      ]
    },
    {
      "cell_type": "code",
      "metadata": {
        "id": "gikeloK_e--O"
      },
      "source": [
        "model = build_model()\n",
        "callback = keras.callbacks.EarlyStopping(monitor='val_loss', patience=300, restore_best_weights=True)\n",
        "history = model.fit(np.array(dataset), np.array(labels), epochs=350, batch_size=256, validation_split=0.1, callbacks=[callback], shuffle=True)\n",
        "# belos is for CNN models\n",
        "# history = model.fit(np.expand_dims(dataset, axis=3), np.array(labels), batch_size=64, epochs=1, verbose=2, validation_split=0.1)"
      ],
      "execution_count": null,
      "outputs": []
    },
    {
      "cell_type": "code",
      "metadata": {
        "colab": {
          "base_uri": "https://localhost:8080/",
          "height": 283
        },
        "id": "102sxcgWfPqi",
        "outputId": "b4c6ee62-401e-4ffa-9db0-c0a428fdca0c"
      },
      "source": [
        "plt.plot(history.history['loss'])\n",
        "plt.plot(history.history['val_loss'])"
      ],
      "execution_count": null,
      "outputs": [
        {
          "output_type": "execute_result",
          "data": {
            "text/plain": [
              "[<matplotlib.lines.Line2D at 0x7f5d01209cd0>]"
            ]
          },
          "metadata": {},
          "execution_count": 57
        },
        {
          "output_type": "display_data",
          "data": {
            "image/png": "[encoded data removed]",
            "text/plain": [
              "<Figure size 432x288 with 1 Axes>"
            ]
          },
          "metadata": {
            "needs_background": "light"
          }
        }
      ]
    },
    {
      "cell_type": "markdown",
      "metadata": {
        "id": "1q_wdepgVnlx"
      },
      "source": [
        "dataset 8 is the most complete dataset"
      ]
    },
    {
      "cell_type": "code",
      "metadata": {
        "id": "RmENFuMc0H8Y"
      },
      "source": [
        "np.save('gdrive/MyDrive/RL_Project/dataset8_backup',np.array(dataset))\n",
        "np.save('gdrive/MyDrive/RL_Project/labels8_backup',np.array(labels))"
      ],
      "execution_count": null,
      "outputs": []
    },
    {
      "cell_type": "markdown",
      "metadata": {
        "id": "EWkhC3qxWjQc"
      },
      "source": [
        "here you can load different datasets (with different sizes)"
      ]
    },
    {
      "cell_type": "code",
      "metadata": {
        "colab": {
          "base_uri": "https://localhost:8080/"
        },
        "id": "Bv858VrxyRMt",
        "outputId": "17409b28-0264-4853-e56d-43af03aef2f0"
      },
      "source": [
        "dataset = np.load('gdrive/MyDrive/RL_Project/dataset5.npy')\n",
        "labels = np.load('gdrive/MyDrive/RL_Project/labels5.npy')\n",
        "print(dataset.shape, labels.shape)\n",
        "# dataset = dataset.tolist()\n",
        "# labels = labels.tolist()"
      ],
      "execution_count": null,
      "outputs": [
        {
          "name": "stdout",
          "output_type": "stream",
          "text": [
            "(90002, 16, 4) (90002,)\n"
          ]
        }
      ]
    },
    {
      "cell_type": "markdown",
      "metadata": {
        "id": "ucIcF0K3WoWC"
      },
      "source": [
        "load the most recently saved model"
      ]
    },
    {
      "cell_type": "code",
      "metadata": {
        "id": "cRoRp0e9Ahop"
      },
      "source": [
        "model = keras.models.load_model('gdrive/MyDrive/RL_Project/my_model.h5')"
      ],
      "execution_count": null,
      "outputs": []
    },
    {
      "cell_type": "markdown",
      "metadata": {
        "id": "L0HMQjUPWspT"
      },
      "source": [
        "save the current model as the most recent one"
      ]
    },
    {
      "cell_type": "code",
      "metadata": {
        "id": "u1wbGk5mBHZ4"
      },
      "source": [
        "keras.models.save_model(model,\"drive/MyDrive/RL_Project/my_model.h5\",)\n"
      ],
      "execution_count": null,
      "outputs": []
    },
    {
      "cell_type": "code",
      "metadata": {
        "id": "qk_n0lS9LnKW"
      },
      "source": [
        ""
      ],
      "execution_count": null,
      "outputs": []
    }
  ]
}